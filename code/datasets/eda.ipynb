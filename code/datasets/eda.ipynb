{
 "cells": [
  {
   "cell_type": "code",
   "execution_count": 2,
   "metadata": {},
   "outputs": [],
   "source": [
    "import pandas as pd\n",
    "import numpy as np\n",
    "import matplotlib.pyplot as plt\n",
    "import seaborn as sns\n",
    "\n",
    "# Для работы с датой\n",
    "import datetime"
   ]
  },
  {
   "cell_type": "markdown",
   "metadata": {},
   "source": [
    "## Загрузка данных"
   ]
  },
  {
   "cell_type": "code",
   "execution_count": 4,
   "metadata": {},
   "outputs": [
    {
     "data": {
      "text/html": [
       "<div>\n",
       "<style scoped>\n",
       "    .dataframe tbody tr th:only-of-type {\n",
       "        vertical-align: middle;\n",
       "    }\n",
       "\n",
       "    .dataframe tbody tr th {\n",
       "        vertical-align: top;\n",
       "    }\n",
       "\n",
       "    .dataframe thead th {\n",
       "        text-align: right;\n",
       "    }\n",
       "</style>\n",
       "<table border=\"1\" class=\"dataframe\">\n",
       "  <thead>\n",
       "    <tr style=\"text-align: right;\">\n",
       "      <th></th>\n",
       "      <th>id</th>\n",
       "      <th>date</th>\n",
       "      <th>text</th>\n",
       "      <th>views</th>\n",
       "      <th>forwards</th>\n",
       "      <th>replies</th>\n",
       "      <th>reactions</th>\n",
       "    </tr>\n",
       "  </thead>\n",
       "  <tbody>\n",
       "    <tr>\n",
       "      <th>0</th>\n",
       "      <td>21022</td>\n",
       "      <td>2025-09-18 06:24:59+00:00</td>\n",
       "      <td>Провокация в каждой ноте — встречайте новые ар...</td>\n",
       "      <td>30444</td>\n",
       "      <td>79</td>\n",
       "      <td>21</td>\n",
       "      <td>{\"ReactionEmoji(emoticon='❤')\": 226, 'Reaction...</td>\n",
       "    </tr>\n",
       "    <tr>\n",
       "      <th>1</th>\n",
       "      <td>21021</td>\n",
       "      <td>2025-09-17 16:52:09+00:00</td>\n",
       "      <td>NaN</td>\n",
       "      <td>61303</td>\n",
       "      <td>315</td>\n",
       "      <td>0</td>\n",
       "      <td>{}</td>\n",
       "    </tr>\n",
       "    <tr>\n",
       "      <th>2</th>\n",
       "      <td>21020</td>\n",
       "      <td>2025-09-17 16:52:09+00:00</td>\n",
       "      <td>NaN</td>\n",
       "      <td>61067</td>\n",
       "      <td>315</td>\n",
       "      <td>0</td>\n",
       "      <td>{}</td>\n",
       "    </tr>\n",
       "  </tbody>\n",
       "</table>\n",
       "</div>"
      ],
      "text/plain": [
       "      id                       date  \\\n",
       "0  21022  2025-09-18 06:24:59+00:00   \n",
       "1  21021  2025-09-17 16:52:09+00:00   \n",
       "2  21020  2025-09-17 16:52:09+00:00   \n",
       "\n",
       "                                                text  views  forwards  \\\n",
       "0  Провокация в каждой ноте — встречайте новые ар...  30444        79   \n",
       "1                                                NaN  61303       315   \n",
       "2                                                NaN  61067       315   \n",
       "\n",
       "   replies                                          reactions  \n",
       "0       21  {\"ReactionEmoji(emoticon='❤')\": 226, 'Reaction...  \n",
       "1        0                                                 {}  \n",
       "2        0                                                 {}  "
      ]
     },
     "execution_count": 4,
     "metadata": {},
     "output_type": "execute_result"
    }
   ],
   "source": [
    "df = pd.read_csv('/Users/dminnakhmetova/InnoCourses/PMLDL/PMLDL-Assignment-1/data/raw/telegram_data.csv')\n",
    "df.head(3)"
   ]
  },
  {
   "cell_type": "markdown",
   "metadata": {},
   "source": [
    "## Первичный обзор"
   ]
  },
  {
   "cell_type": "code",
   "execution_count": 5,
   "metadata": {},
   "outputs": [
    {
     "name": "stdout",
     "output_type": "stream",
     "text": [
      "Размер данных: (3000, 7)\n",
      "<class 'pandas.core.frame.DataFrame'>\n",
      "RangeIndex: 3000 entries, 0 to 2999\n",
      "Data columns (total 7 columns):\n",
      " #   Column     Non-Null Count  Dtype \n",
      "---  ------     --------------  ----- \n",
      " 0   id         3000 non-null   int64 \n",
      " 1   date       3000 non-null   object\n",
      " 2   text       1257 non-null   object\n",
      " 3   views      3000 non-null   int64 \n",
      " 4   forwards   3000 non-null   int64 \n",
      " 5   replies    3000 non-null   int64 \n",
      " 6   reactions  3000 non-null   object\n",
      "dtypes: int64(4), object(3)\n",
      "memory usage: 164.2+ KB\n"
     ]
    },
    {
     "data": {
      "text/plain": [
       "id              0\n",
       "date            0\n",
       "text         1743\n",
       "views           0\n",
       "forwards        0\n",
       "replies         0\n",
       "reactions       0\n",
       "dtype: int64"
      ]
     },
     "execution_count": 5,
     "metadata": {},
     "output_type": "execute_result"
    }
   ],
   "source": [
    "print(f\"Размер данных: {df.shape}\")\n",
    "df.info()\n",
    "df.isnull().sum()"
   ]
  },
  {
   "cell_type": "markdown",
   "metadata": {},
   "source": [
    "## Пропуски и особенности\n",
    "\n",
    "Проверю:\n",
    "* Сколько строк без текста?\n",
    "* Есть ли странности в датах?\n",
    "* Что внутри поля reactions?"
   ]
  },
  {
   "cell_type": "code",
   "execution_count": 6,
   "metadata": {},
   "outputs": [
    {
     "name": "stdout",
     "output_type": "stream",
     "text": [
      "Без текста: 1743\n",
      "0    2025-09-18 06:24:59+00:00\n",
      "1    2025-09-17 16:52:09+00:00\n",
      "2    2025-09-17 16:52:09+00:00\n",
      "Name: date, dtype: object\n",
      "0    {\"ReactionEmoji(emoticon='❤')\": 226, 'Reaction...\n",
      "1                                                   {}\n",
      "2                                                   {}\n",
      "Name: reactions, dtype: object\n"
     ]
    }
   ],
   "source": [
    "print(\"Без текста:\", df['text'].isnull().sum())\n",
    "print(df['date'].head(3))\n",
    "print(df['reactions'].head(3))"
   ]
  },
  {
   "cell_type": "markdown",
   "metadata": {},
   "source": [
    "## Обработка дат, распределение просмотров"
   ]
  },
  {
   "cell_type": "code",
   "execution_count": 13,
   "metadata": {},
   "outputs": [
    {
     "data": {
      "image/png": "[encoded data removed]",
      "text/plain": [
       "<Figure size 1000x500 with 1 Axes>"
      ]
     },
     "metadata": {},
     "output_type": "display_data"
    }
   ],
   "source": [
    "df['date'] = pd.to_datetime(df['date'])\n",
    "plt.figure(figsize=(10,5))\n",
    "sns.histplot(df['views'], bins=30)\n",
    "plt.title('Распределение просмотров')\n",
    "plt.xlabel('Views')\n",
    "plt.ylabel('Количество постов')\n",
    "plt.show()"
   ]
  },
  {
   "cell_type": "markdown",
   "metadata": {},
   "source": [
    "## Cтруктура reactions\n"
   ]
  },
  {
   "cell_type": "code",
   "execution_count": 12,
   "metadata": {},
   "outputs": [
    {
     "name": "stdout",
     "output_type": "stream",
     "text": [
      "{\"ReactionEmoji(emoticon='❤')\": 226, 'ReactionCustomEmoji(document_id=5294214784856649592)': 145, \"ReactionEmoji(emoticon='🔥')\": 74, \"ReactionEmoji(emoticon='😁')\": 23, \"ReactionEmoji(emoticon='👍')\": 7, \"ReactionEmoji(emoticon='⚡')\": 2, \"ReactionEmoji(emoticon='😍')\": 2, \"ReactionEmoji(emoticon='😇')\": 2}\n"
     ]
    }
   ],
   "source": [
    "import ast\n",
    "\n",
    "# Преобразуем первый не пустой reactions из str в dict\n",
    "example = df.loc[df['reactions'].str.len() > 2, 'reactions'].iloc[0]\n",
    "print(ast.literal_eval(example))"
   ]
  }
 ],
 "metadata": {
  "kernelspec": {
   "display_name": "venv",
   "language": "python",
   "name": "python3"
  },
  "language_info": {
   "codemirror_mode": {
    "name": "ipython",
    "version": 3
   },
   "file_extension": ".py",
   "mimetype": "text/x-python",
   "name": "python",
   "nbconvert_exporter": "python",
   "pygments_lexer": "ipython3",
   "version": "3.10.16"
  }
 },
 "nbformat": 4,
 "nbformat_minor": 2
}
